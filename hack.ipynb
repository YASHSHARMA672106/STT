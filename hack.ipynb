{
 "cells": [
  {
   "cell_type": "code",
   "execution_count": 6,
   "metadata": {},
   "outputs": [
    {
     "name": "stdout",
     "output_type": "stream",
     "text": [
      "Say something...\n",
      "You said: hello hello\n",
      "\n",
      "Hello Sir. Good evening\n",
      "-19.504706859588623\n",
      "Say something...\n",
      "....\n",
      "Say something...\n",
      "You said: shutdown\n",
      "\n",
      "Bye bye Sir. Have a nice day\n"
     ]
    },
    {
     "ename": "SystemExit",
     "evalue": "",
     "output_type": "error",
     "traceback": [
      "An exception has occurred, use %tb to see the full traceback.\n",
      "\u001b[1;31mSystemExit\u001b[0m\n"
     ]
    }
   ],
   "source": [
    "# Import the required module for text  \n",
    "# to speech conversion \n",
    "from gtts import gTTS\n",
    "import speech_recognition as sr\n",
    "import os\n",
    "import sys\n",
    "import time\n",
    "from time import strftime\n",
    "\n",
    "  \n",
    "# This module is imported so that we can  \n",
    "# play the converted audio \n",
    "import os \n",
    "  \n",
    "start = time.time()\n",
    "\n",
    "def myCommand():\n",
    "    r = sr.Recognizer()\n",
    "    with sr.Microphone() as source:\n",
    "        print('Say something...')\n",
    "        r.pause_threshold = 1\n",
    "        r.adjust_for_ambient_noise(source, duration=1)\n",
    "        audio = r.listen(source)\n",
    "    try:\n",
    "        command = r.recognize_google(audio).lower()\n",
    "        print('You said: ' + command + '\\n')\n",
    "    #loop back to continue to listen for commands if unrecognizable speech is received\n",
    "    except sr.UnknownValueError:\n",
    "        print('....')\n",
    "        command = myCommand();\n",
    "    return command\n",
    "def Response(audio):\n",
    "    print(audio)\n",
    "    for line in audio.splitlines():\n",
    "        os.system(\"say \" + audio)\n",
    "        \n",
    "while True:\n",
    "    command=myCommand()\n",
    "    #if 'open reddit' in command:\n",
    "        #reg_ex = re.search('open reddit (.*)', command)\n",
    "        #url = 'https://www.reddit.com/'\n",
    "        #\n",
    "        #Greet Sofia\n",
    "    if 'hello' in command:\n",
    "        day_time = int(strftime('%H'))\n",
    "        if day_time < 12:\n",
    "            Response('Hello Sir. Good morning')\n",
    "        elif 12 <= day_time < 18:\n",
    "            Response('Hello Sir. Good afternoon')\n",
    "        else:\n",
    "            Response('Hello Sir. Good evening')\n",
    "            \n",
    "        \n",
    "#to terminate the program\n",
    "    if 'shutdown' in command:\n",
    "         Response('Bye bye Sir. Have a nice day')\n",
    "         sys.exit()\n",
    "    end = time.time()\n",
    "    print(start-end)\n",
    "# The text that you want to convert to audio \n",
    "mytext = 'hi how are you'\n",
    "  \n",
    "# Language in which you want to convert \n",
    "language = 'en'\n",
    "  \n",
    "# Passing the text and language to the engine,  \n",
    "# here we have marked slow=False. Which tells  \n",
    "# the module that the converted audio should  \n",
    "# have a high speed \n",
    "myobj = gTTS(text=mytext, lang=language, slow=False) \n",
    "  \n",
    "# Saving the converted audio in a mp3 file named \n",
    "# welcome  \n",
    "myobj.save(\"welcome.mp3\") \n",
    "  \n",
    "# Playing the converted file \n",
    "os.system(\"welcome.mp3\") "
   ]
  },
  {
   "cell_type": "code",
   "execution_count": null,
   "metadata": {},
   "outputs": [],
   "source": []
  },
  {
   "cell_type": "code",
   "execution_count": null,
   "metadata": {},
   "outputs": [],
   "source": []
  }
 ],
 "metadata": {
  "kernelspec": {
   "display_name": "Python 3",
   "language": "python",
   "name": "python3"
  },
  "language_info": {
   "codemirror_mode": {
    "name": "ipython",
    "version": 3
   },
   "file_extension": ".py",
   "mimetype": "text/x-python",
   "name": "python",
   "nbconvert_exporter": "python",
   "pygments_lexer": "ipython3",
   "version": "3.7.3"
  }
 },
 "nbformat": 4,
 "nbformat_minor": 2
}
